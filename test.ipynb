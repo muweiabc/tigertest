{
 "cells": [
  {
   "cell_type": "code",
   "execution_count": 5,
   "metadata": {},
   "outputs": [],
   "source": [
    "from tigeropen.common.consts import (Language,        # 语言\n",
    "                                Market,           # 市场\n",
    "                                BarPeriod,        # k线周期\n",
    "                                QuoteRight)       # 复权类型\n",
    "from tigeropen.tiger_open_config import TigerOpenClientConfig\n",
    "from tigeropen.common.util.signature_utils import read_private_key\n",
    "from tigeropen.quote.quote_client import QuoteClient\n",
    "import os\n",
    "\n",
    "def get_client_config():\n",
    "    \"\"\"\n",
    "    https://quant.itigerup.com/#developer 开发者信息获取\n",
    "    \"\"\"\n",
    "    client_config = TigerOpenClientConfig()\n",
    "    # 使用绝对路径读取私钥文件\n",
    "    current_dir = os.path.dirname(os.path.abspath(\"./tiger-test\"))\n",
    "    private_key_path = os.path.join(current_dir, 'keys', 'private.pem')\n",
    "    client_config.private_key = read_private_key(private_key_path)\n",
    "    client_config.tiger_id = '20153826'\n",
    "    client_config.account = '20240803144534965'\n",
    "    client_config.language = Language.zh_CN  #可选，不填默认为英语'\n",
    "    # client_config.timezone = 'US/Eastern' # 可选时区设置\n",
    "    return client_config\n",
    "\n",
    "client_config = get_client_config()\n",
    "\n",
    "# 随后传入配置参数对象来初始化QuoteClient\n",
    "quote_client = QuoteClient(client_config)\n",
    "\n",
    "# 完成初始化后，就可以调用quote_client方法来使用调用QuoteClient对象的get_stock_brief方法来查询股票行情了\n",
    "# 此处以美国股票为例，关于其他支持的市场及标的类型，请参考文档的基本操作部分。\n",
    "# 对于使用多台设备调用API的用户，需先调用grab_quote_permission进行行情权限的抢占，详情请见基本操作-行情类-通用-grab_quote_permission方法说明\n",
    "permissions = quote_client.grab_quote_permission() "
   ]
  }
 ],
 "metadata": {
  "kernelspec": {
   "display_name": "tiger",
   "language": "python",
   "name": "python3"
  },
  "language_info": {
   "codemirror_mode": {
    "name": "ipython",
    "version": 3
   },
   "file_extension": ".py",
   "mimetype": "text/x-python",
   "name": "python",
   "nbconvert_exporter": "python",
   "pygments_lexer": "ipython3",
   "version": "3.10.9"
  }
 },
 "nbformat": 4,
 "nbformat_minor": 2
}
