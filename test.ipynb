{
 "cells": [
  {
   "cell_type": "code",
   "execution_count": 3,
   "metadata": {},
   "outputs": [],
   "source": [
    "from tigeropen.common.consts import (Language,        # 语言\n",
    "                                Market,           # 市场\n",
    "                                BarPeriod,        # k线周期\n",
    "                                QuoteRight)       # 复权类型\n",
    "from tigeropen.tiger_open_config import TigerOpenClientConfig\n",
    "from tigeropen.common.util.signature_utils import read_private_key\n",
    "from tigeropen.quote.quote_client import QuoteClient\n",
    "import os\n",
    "\n",
    "def get_client_config():\n",
    "    \"\"\"\n",
    "    https://quant.itigerup.com/#developer 开发者信息获取\n",
    "    \"\"\"\n",
    "    client_config = TigerOpenClientConfig()\n",
    "    # 使用绝对路径读取私钥文件\n",
    "    current_dir = os.path.dirname(os.path.abspath(\"./tiger-test\"))\n",
    "    private_key_path = os.path.join(current_dir, 'keys', 'private.pem')\n",
    "    client_config.private_key = read_private_key(private_key_path)\n",
    "    client_config.tiger_id = '20153826'\n",
    "    # client_config.account = '20240803144534965'\n",
    "    client_config.account = '498843'\n",
    "    client_config.language = Language.zh_CN  #可选，不填默认为英语'\n",
    "    # client_config.timezone = 'US/Eastern' # 可选时区设置\n",
    "    return client_config\n",
    "\n",
    "client_config = get_client_config()\n",
    "\n",
    "# 随后传入配置参数对象来初始化QuoteClient\n",
    "quote_client = QuoteClient(client_config)\n",
    "\n",
    "# 完成初始化后，就可以调用quote_client方法来使用调用QuoteClient对象的get_stock_brief方法来查询股票行情了\n",
    "# 此处以美国股票为例，关于其他支持的市场及标的类型，请参考文档的基本操作部分。\n",
    "# 对于使用多台设备调用API的用户，需先调用grab_quote_permission进行行情权限的抢占，详情请见基本操作-行情类-通用-grab_quote_permission方法说明\n"
   ]
  },
  {
   "cell_type": "code",
   "execution_count": null,
   "metadata": {},
   "outputs": [],
   "source": [
    "import pandas as pd\n",
    "# permissions = quote_client.get_quote_permission() \n",
    "# print(permissions)\n",
    "# market_status = quote_client.get_market_status(Market.US)\n",
    "timeline = quote_client.get_timeline(['AAPL'], include_hour_trading=False)\n",
    "\n",
    "# 将 time 转换为对应时区的日期时间\n",
    "timeline['cn_date'] = pd.to_datetime(timeline['time'], unit='ms').dt.tz_localize('UTC').dt.tz_convert('Asia/Shanghai')\n",
    "timeline['us_date'] = pd.to_datetime(timeline['time'], unit='ms').dt.tz_localize('UTC').dt.tz_convert('US/Eastern')\n",
    "\n",
    "# 查看最新一条数据\n",
    "print(timeline.iloc[-1].price)\n",
    "print(timeline.iloc[-1].volume)\n",
    "# 按symbol过滤\n",
    "df = timeline.loc[timeline['symbol'] == 'AAPL']"
   ]
  },
  {
   "cell_type": "code",
   "execution_count": 22,
   "metadata": {},
   "outputs": [
    {
     "name": "stdout",
     "output_type": "stream",
     "text": [
      "  symbol           time     open      high       low   close    volume  \\\n",
      "0   AAPL  1715832000000  190.470  191.0950  189.6601  189.84  52845230   \n",
      "1   AAPL  1715918400000  189.510  190.8100  189.1800  189.87  41282925   \n",
      "2   AAPL  1716177600000  189.325  191.9199  189.0100  191.04  44361275   \n",
      "3   AAPL  1716264000000  191.090  192.7300  190.9201  192.35  42309401   \n",
      "4   AAPL  1716350400000  192.265  192.8231  190.2700  190.90  34648547   \n",
      "\n",
      "         amount next_page_token  \n",
      "0  1.005126e+10            None  \n",
      "1  7.840779e+09            None  \n",
      "2  8.488261e+09            None  \n",
      "3  8.134183e+09            None  \n",
      "4  6.632339e+09            None  \n",
      "正在获取 AAPL 的数据...\n"
     ]
    }
   ],
   "source": [
    "from datetime import datetime, timedelta\n",
    "bars = quote_client.get_bars(['AAPL'])\n",
    "#trade_session 可选参数值\n",
    "# bars = quote_client.get_bars(['AAPL'],period = BarPeriod.ONE_MINUTE, trade_session=TradingSession.PreMarket)\n",
    "# bars = quote_client.get_bars(['AAPL'],period = BarPeriod.HALF_HOUR, trade_session=TradingSession.AfterHours)\n",
    "# bars = quote_client.get_bars(['AAPL'],period = BarPeriod.ONE_MINUTE,trade_session=TradingSession.OverNight)\n",
    "\n",
    "print(bars.head())\n",
    "end_date = datetime.now()\n",
    "start_date = end_date - timedelta(days=65)  # 5年数据\n",
    "\n",
    "# 获取富时中国A50指数数据\n",
    "a50_symbol = 'AAPL'  # 富时中国A50指数的代码\n",
    "print(f\"正在获取 {a50_symbol} 的数据...\")\n",
    "a50_data = quote_client.get_bars(\n",
    "    symbols=[a50_symbol],\n",
    "    period='day',\n",
    "    begin_time=int(start_date.timestamp() * 1000),\n",
    "    end_time=int(end_date.timestamp() * 1000)\n",
    ")"
   ]
  }
 ],
 "metadata": {
  "kernelspec": {
   "display_name": "kaggle",
   "language": "python",
   "name": "python3"
  },
  "language_info": {
   "codemirror_mode": {
    "name": "ipython",
    "version": 3
   },
   "file_extension": ".py",
   "mimetype": "text/x-python",
   "name": "python",
   "nbconvert_exporter": "python",
   "pygments_lexer": "ipython3",
   "version": "3.10.13"
  }
 },
 "nbformat": 4,
 "nbformat_minor": 2
}
