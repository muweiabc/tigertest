{
 "cells": [
  {
   "cell_type": "code",
   "execution_count": null,
   "metadata": {},
   "outputs": [],
   "source": [
    "# import importlib\n",
    "from okx_trading import OKXTrading\n",
    "# importlib.reload(OKXTrading)\n",
    "# okx_trader = OKXTrading(is_simulated=True)\n",
    "# okx_trader.get_open_orders()\n",
    "# okx_trader.place_eth_order(side='buy', size=0.001, price=2400)\n",
    "\n",
    "# importlib.reload(OKXTrading)\n",
    "# okx_trader.place_eth_order(side='buy', size=0.001, price=2400)\n",
    "# orders = okx_trader.get_open_orders()\n",
    "okx_trader = OKXTrading(is_simulated=True)\n",
    "orders = okx_trader.get_account_balance()"
   ]
  },
  {
   "cell_type": "code",
   "execution_count": null,
   "metadata": {},
   "outputs": [],
   "source": [
    "okx_trader.cancel_all_orders()\n",
    "orders = okx_trader.get_open_orders()"
   ]
  }
 ],
 "metadata": {
  "kernelspec": {
   "display_name": "kaggle",
   "language": "python",
   "name": "python3"
  },
  "language_info": {
   "codemirror_mode": {
    "name": "ipython",
    "version": 3
   },
   "file_extension": ".py",
   "mimetype": "text/x-python",
   "name": "python",
   "nbconvert_exporter": "python",
   "pygments_lexer": "ipython3",
   "version": "3.10.13"
  }
 },
 "nbformat": 4,
 "nbformat_minor": 2
}
