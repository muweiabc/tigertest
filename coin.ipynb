{
 "cells": [
  {
   "cell_type": "code",
   "execution_count": null,
   "metadata": {},
   "outputs": [],
   "source": [
    "# import ccxt\n",
    "\n",
    "# 初始化 OKX 交易所\n",
    "# exchange = ccxt.okx({\n",
    "#     'apiKey': '112b9466-c51d-4ee3-a399-75628bb5c1e3',\n",
    "#     'secret': '7281D11912AC979D1FA3E2A84EFD79E7',\n",
    "#     'password': 'Movie@123',  # 部分账户需要\n",
    "#     'enableRateLimit': True,  # 启用限速，避免被封\n",
    "#     'options': {\n",
    "#         'defaultType': 'spot',  # 默认现货模式，可选 'swap'（合约）、'future'（期货）\n",
    "#     }\n",
    "# })\n",
    "# ticker = exchange.fetch_ticker('BTC/USDT')\n",
    "# print(f\"BTC/USDT 最新价: {ticker['last']}\")\n",
    "# print(f\"24小时成交量: {ticker['quoteVolume']} USDT\")"
   ]
  },
  {
   "cell_type": "code",
   "execution_count": 3,
   "metadata": {},
   "outputs": [
    {
     "name": "stdout",
     "output_type": "stream",
     "text": [
      "{'code': '0', 'data': [{'acctLv': '1', 'acctStpMode': 'cancel_maker', 'autoLoan': False, 'ctIsoMode': 'automatic', 'enableSpotBorrow': False, 'greeksType': 'PA', 'ip': '', 'kycLv': '2', 'label': '主账户', 'level': 'Lv1', 'levelTmp': '', 'liquidationGear': '-1', 'mainUid': '526722145221526547', 'mgnIsoMode': 'automatic', 'opAuth': '0', 'perm': 'read_only', 'posMode': 'long_short_mode', 'roleType': '0', 'spotBorrowAutoRepay': False, 'spotOffsetType': '', 'spotRoleType': '0', 'spotTraderInsts': [], 'traderInsts': [], 'type': '0', 'uid': '526722145221526547'}], 'msg': ''}\n"
     ]
    }
   ],
   "source": [
    "import okx.Account as Account\n",
    "\n",
    "\n",
    "# API 初始化\n",
    "apikey = \"112b9466-c51d-4ee3-a399-75628bb5c1e3\"\n",
    "secretkey = \"7281D11912AC979D1FA3E2A84EFD79E7\"\n",
    "passphrase = \"Movie@123\"\n",
    "\n",
    "flag = \"1\"  # 实盘:0 , 模拟盘:1\n",
    "\n",
    "accountAPI = Account.AccountAPI(apikey, secretkey, passphrase, False, flag)\n",
    "\n",
    "# 查看账户配置\n",
    "result = accountAPI.get_account_config()\n",
    "print(result)\n"
   ]
  }
 ],
 "metadata": {
  "kernelspec": {
   "display_name": "tiger",
   "language": "python",
   "name": "python3"
  },
  "language_info": {
   "codemirror_mode": {
    "name": "ipython",
    "version": 3
   },
   "file_extension": ".py",
   "mimetype": "text/x-python",
   "name": "python",
   "nbconvert_exporter": "python",
   "pygments_lexer": "ipython3",
   "version": "3.10.9"
  }
 },
 "nbformat": 4,
 "nbformat_minor": 2
}
